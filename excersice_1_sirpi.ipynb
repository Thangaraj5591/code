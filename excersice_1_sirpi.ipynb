{
  "nbformat": 4,
  "nbformat_minor": 0,
  "metadata": {
    "colab": {
      "provenance": [],
      "authorship_tag": "ABX9TyNArTiYaR9qzlvJ+LLeCwvv",
      "include_colab_link": true
    },
    "kernelspec": {
      "name": "python3",
      "display_name": "Python 3"
    },
    "language_info": {
      "name": "python"
    }
  },
  "cells": [
    {
      "cell_type": "markdown",
      "metadata": {
        "id": "view-in-github",
        "colab_type": "text"
      },
      "source": [
        "<a href=\"https://colab.research.google.com/github/Thangaraj5591/code/blob/main/excersice_1_sirpi.ipynb\" target=\"_parent\"><img src=\"https://colab.research.google.com/assets/colab-badge.svg\" alt=\"Open In Colab\"/></a>"
      ]
    },
    {
      "cell_type": "code",
      "source": [
        "# 1. Types of Variables\n",
        "# Question:\n",
        "# Write a Python program that defines three types of variables:\n",
        "# •\tA string variable to store your name.\n",
        "# •\tAn integer variable to store your age.\n",
        "# •\tA float variable to store your height in meters.\n",
        "# Print these variables along with their types using the type() function.\n",
        "# ________________________________________\n",
        "name = \"raj\"\n",
        "age = 25\n",
        "height = 165.7\n",
        "print(name,type(name))\n",
        "print(age,type(age))\n",
        "print(height,type(height))\n"
      ],
      "metadata": {
        "colab": {
          "base_uri": "https://localhost:8080/"
        },
        "id": "Zaipsb2-rVSj",
        "outputId": "812eb5b0-dc77-478f-c10b-15e700790fc5"
      },
      "execution_count": null,
      "outputs": [
        {
          "output_type": "stream",
          "name": "stdout",
          "text": [
            "raj <class 'str'>\n",
            "25 <class 'int'>\n",
            "165.7 <class 'float'>\n"
          ]
        }
      ]
    },
    {
      "cell_type": "code",
      "source": [
        "# 2. Lists\n",
        "# Question:\n",
        "# Create a list of five fruits ([\"apple\", \"banana\", \"cherry\", \"date\", \"elderberry\"]):\n",
        "# a) Print the first and last fruit from the list.\n",
        "# b) Add a new fruit to the end of the list.\n",
        "# c) Remove the second fruit from the list.\n",
        "# d) Sort the list in alphabetical order and print it.\n",
        "# ________________________________________\n",
        "\n",
        "fruit_list=[\"Apple\",\"Banana\",\"Cherry\",\"Date\",\"Elderberry\"];\n",
        "n = len(fruit_list)\n",
        "print(fruit_list[0], fruit_list[n-1] )\n",
        "fruit_list.append(\"orange\")\n",
        "print(fruit_list)\n",
        "fruit_list.remove(fruit_list[1])\n",
        "print(fruit_list)\n",
        "fruit_list.sort()\n",
        "print(fruit_list)\n",
        "# fruit_list.pop(len(1))\n",
        "\n",
        "\n"
      ],
      "metadata": {
        "colab": {
          "base_uri": "https://localhost:8080/"
        },
        "id": "SE_uGMIytLvt",
        "outputId": "419149c6-070b-4c17-8b72-8d3e9f8c5c1d"
      },
      "execution_count": null,
      "outputs": [
        {
          "output_type": "stream",
          "name": "stdout",
          "text": [
            "Apple Elderberry\n",
            "['Apple', 'Banana', 'Cherry', 'Date', 'Elderberry', 'orange']\n",
            "['Apple', 'Cherry', 'Date', 'Elderberry', 'orange']\n",
            "['Apple', 'Cherry', 'Date', 'Elderberry', 'orange']\n"
          ]
        }
      ]
    },
    {
      "cell_type": "code",
      "source": [
        "# 3. Tuples\n",
        "# Question:\n",
        "# Create a tuple to store the names of three programming languages (\"Python\", \"Java\", \"C++\"):\n",
        "# a) Access the second language in the tuple.\n",
        "# b) Try to replace the second language with \"JavaScript\". What happens?\n",
        "# c) Convert the tuple to a list, make the modification, and convert it back to a tuple.\n",
        "# ________________________________________\n",
        "language = (\"python\",\"java\",\"c++\")\n",
        "print(language[1])\n",
        "# language[1]=\"javascript\"\n",
        "language_list = list(language)\n",
        "language_list[1]=\"javascript\"\n",
        "language = tuple(language_list)\n",
        "print(language)\n"
      ],
      "metadata": {
        "id": "BW5CprSqtL5b",
        "colab": {
          "base_uri": "https://localhost:8080/"
        },
        "outputId": "d697afa8-1041-4a61-d3ec-c6a54178bddc"
      },
      "execution_count": null,
      "outputs": [
        {
          "output_type": "stream",
          "name": "stdout",
          "text": [
            "java\n",
            "('python', 'javascript', 'c++')\n"
          ]
        }
      ]
    },
    {
      "cell_type": "code",
      "source": [
        "# 4. Data Dictionary - Basics\n",
        "# Question:\n",
        "# Create a dictionary with the following student details:\n",
        "# •\tname: \"John\"\n",
        "# •\tage: 18\n",
        "# •\tgrade: \"A\"\n",
        "# a) Access and print the value of grade.\n",
        "# b) Add a new key-value pair for hobby with the value \"reading\".\n",
        "# c) Delete the age key from the dictionary.\n",
        "# ________________________________________\n",
        "std_details = {\n",
        "    \"name\":\"John\",\n",
        "    \"age\":18,\n",
        "    \"grade\":\"A\"\n",
        "}\n",
        "print(\"student grade\",std_details[\"grade\"])\n",
        "std_details[\"hobby\"]=\"reading\"\n",
        "print(std_details)\n",
        "del std_details[\"age\"]\n",
        "print(std_details)"
      ],
      "metadata": {
        "colab": {
          "base_uri": "https://localhost:8080/"
        },
        "id": "1ry1AptXtMCE",
        "outputId": "6d6431fa-ccff-4edb-dded-16fd8642110f"
      },
      "execution_count": null,
      "outputs": [
        {
          "output_type": "stream",
          "name": "stdout",
          "text": [
            "student grade A\n",
            "{'name': 'John', 'age': 18, 'grade': 'A', 'hobby': 'reading'}\n",
            "{'name': 'John', 'grade': 'A', 'hobby': 'reading'}\n"
          ]
        }
      ]
    },
    {
      "cell_type": "code",
      "source": [
        "# 5. Data Dictionary - Operations\n",
        "# Question:\n",
        "# You are given the following dictionary:\n",
        "# marks = {\"Math\": 85, \"Science\": 90, \"English\": 78}\n",
        "# a) Find the average marks across all subjects.\n",
        "# b) Update the marks for Math to 88.\n",
        "# c) Check if the key \"History\" exists in the dictionary.\n",
        "# ________________________________________\n",
        "mark = {\"math\": 85, \"science\":90, \"english\":78}\n",
        "avg_mark = sum(mark.values())/len(mark)\n",
        "print(avg_mark)\n",
        "mark[\"math\"]=88\n",
        "print(mark)\n",
        "print(\"history\" in mark)"
      ],
      "metadata": {
        "colab": {
          "base_uri": "https://localhost:8080/"
        },
        "id": "R0kAoyjktMKc",
        "outputId": "149b1a9c-2129-4fa8-eb87-611552c99630"
      },
      "execution_count": null,
      "outputs": [
        {
          "output_type": "stream",
          "name": "stdout",
          "text": [
            "84.33333333333333\n",
            "{'math': 88, 'science': 90, 'english': 78}\n",
            "False\n"
          ]
        }
      ]
    },
    {
      "cell_type": "code",
      "source": [
        "\n",
        "# 6. Functions - Basics\n",
        "# Question:\n",
        "# Write a Python function named square that takes an integer as input and returns its square.\n",
        "# •\tCall the function with the value 7 and print the result.\n",
        "# ________________________________________\n",
        "def square(n):\n",
        "  sq_n = n*n\n",
        "  return sq_n\n",
        "n = int(input())\n",
        "sq_no = square(n)\n",
        "print(sq_no)"
      ],
      "metadata": {
        "colab": {
          "base_uri": "https://localhost:8080/"
        },
        "id": "04E-K_5ntMR1",
        "outputId": "c31be5a8-a2da-4294-afcf-e9c5423e6208"
      },
      "execution_count": null,
      "outputs": [
        {
          "output_type": "stream",
          "name": "stdout",
          "text": [
            "7\n",
            "49\n"
          ]
        }
      ]
    },
    {
      "cell_type": "code",
      "source": [
        "\n",
        "# 7. Functions - Default Arguments\n",
        "# Question:\n",
        "# Write a Python function named greet that takes two parameters:\n",
        "# •\tname (a string)\n",
        "# •\tmessage (a string with a default value of \"Welcome!\")\n",
        "# Call the function twice:\n",
        "# 1.\tOnce by providing both name and message.\n",
        "# 2.\tOnce by providing only name.\n",
        "# ________________________________________\n",
        "def greet (name, message=\"welcome\"):\n",
        "  print(message,name)\n",
        "greet(\"raj\",\"hello\")\n",
        "greet(\"raj\")\n"
      ],
      "metadata": {
        "id": "m87XS60CtMZE",
        "colab": {
          "base_uri": "https://localhost:8080/"
        },
        "outputId": "fe5ab008-127f-40c5-e503-85b413b3290e"
      },
      "execution_count": null,
      "outputs": [
        {
          "output_type": "stream",
          "name": "stdout",
          "text": [
            "hello raj\n",
            "welcome raj\n"
          ]
        }
      ]
    },
    {
      "cell_type": "code",
      "source": [
        "\n",
        "# 8. Functions - Positional and Keyword Arguments\n",
        "# Question:\n",
        "# Write a Python function named student_info that accepts the following parameters:\n",
        "# •\tname (string)\n",
        "# •\tage (integer)\n",
        "# •\tgrade (string, default value is \"A\")\n",
        "# Call the function with:\n",
        "# 1.\tPositional arguments only.\n",
        "# 2.\tKeyword arguments only.\n",
        "# Print the result in each case.\n",
        "# ________________________________________\n",
        "def student_info(name, age,grade=\"A\"):\n",
        "  return name,age,grade\n",
        "print(student_info (\"raj\",24,\"B\"))\n",
        "print(student_info (age=14,name=\"anbu\"))"
      ],
      "metadata": {
        "id": "TayVUgRHtMf9",
        "colab": {
          "base_uri": "https://localhost:8080/"
        },
        "outputId": "c98aa84a-0d00-486a-9641-162d3b00c00b"
      },
      "execution_count": null,
      "outputs": [
        {
          "output_type": "stream",
          "name": "stdout",
          "text": [
            "('raj', 24, 'B')\n",
            "('anbu', 14, 'A')\n"
          ]
        }
      ]
    },
    {
      "cell_type": "code",
      "source": [
        "# 9. Lists and Functions\n",
        "# Question:\n",
        "# Write a Python program with the following requirements:\n",
        "# a) Create a list of numbers: [10, 20, 30, 40, 50].\n",
        "# b) Define a function named double_values that takes a list as input and returns a new list with each value doubled.\n",
        "# c) Pass the list to the function and print the returned list.\n",
        "# ________________________________________\n",
        "list_no = [10,20,30,40,50]\n",
        "def double_values(temp):\n",
        "  new_list = []\n",
        "  i = 0\n",
        "  while i < len(temp):\n",
        "    new_list.append(temp[i]*2)\n",
        "    i = i+1\n",
        "  return new_list\n",
        "new_list = double_values(list_no)\n",
        "print(\"The new double value list\", new_list)"
      ],
      "metadata": {
        "colab": {
          "base_uri": "https://localhost:8080/"
        },
        "id": "IJPs2TxFtMnc",
        "outputId": "a2b6151e-2576-47ba-85aa-00ee9bb250b0"
      },
      "execution_count": null,
      "outputs": [
        {
          "output_type": "stream",
          "name": "stdout",
          "text": [
            "The new double value list [20, 40, 60, 80, 100]\n"
          ]
        }
      ]
    },
    {
      "cell_type": "code",
      "source": [
        "# 10. Combining Data Dictionary and Functions\n",
        "# Question:\n",
        "# Create a dictionary named students to store the names and grades of three students:\n",
        "# students = {\"Alice\": 85, \"Bob\": 78, \"Eve\": 92}\n",
        "# ) Write a function named add_student that accepts a dictionary, a student name, and a grade, then adds the student to the dictionary.\n",
        "# b) Write another function named average_grade that calculates the average grade of all students in the dictionary.\n",
        "# Call the functions to:\n",
        "# 1.\tAdd a new student (\"David\": 88).\n",
        "# 2.\tCalculate and print the average grade.\n",
        "# .________________________________________\n",
        "def add_student(students,name,grade):\n",
        "  students[name]=grade\n",
        "  return students\n",
        "students = {\"Alice\": 85, \"Bob\": 78, \"Eve\": 92}\n",
        "\n",
        "name = input(\"enter the name\")\n",
        "# print(len(students))\n",
        "grade = int(input(\"enter the grade\"))\n",
        "s1 = add_student(students,name, grade)\n",
        "print(sum(s1.values())/len(s1))\n",
        "# print(studnet1)\n",
        "# def avg_grade(students):\n",
        "#   sum = 0\n",
        "#   for i in students:\n",
        "#     sum = sum+students[i]\n",
        "#   avg = sum/len(students)\n",
        "#   print(avg)\n",
        "# avg_grade(students)"
      ],
      "metadata": {
        "colab": {
          "base_uri": "https://localhost:8080/"
        },
        "id": "swW6Rki9tMvs",
        "outputId": "81823c99-a813-4e9c-b734-14827a2b8a03"
      },
      "execution_count": null,
      "outputs": [
        {
          "output_type": "stream",
          "name": "stdout",
          "text": [
            "enter the name David\n",
            "enter the grade 88\n",
            "85.75\n"
          ]
        }
      ]
    },
    {
      "cell_type": "code",
      "source": [],
      "metadata": {
        "id": "BseGth8IsqpF"
      },
      "execution_count": null,
      "outputs": []
    }
  ]
}