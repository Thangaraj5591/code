{
  "nbformat": 4,
  "nbformat_minor": 0,
  "metadata": {
    "colab": {
      "provenance": [],
      "authorship_tag": "ABX9TyMAsb/UvvDWMwzIRZCH/cv0",
      "include_colab_link": true
    },
    "kernelspec": {
      "name": "python3",
      "display_name": "Python 3"
    },
    "language_info": {
      "name": "python"
    }
  },
  "cells": [
    {
      "cell_type": "markdown",
      "metadata": {
        "id": "view-in-github",
        "colab_type": "text"
      },
      "source": [
        "<a href=\"https://colab.research.google.com/github/Thangaraj5591/code/blob/main/excersice_2_sirpi.ipynb\" target=\"_parent\"><img src=\"https://colab.research.google.com/assets/colab-badge.svg\" alt=\"Open In Colab\"/></a>"
      ]
    },
    {
      "cell_type": "code",
      "execution_count": null,
      "metadata": {
        "colab": {
          "base_uri": "https://localhost:8080/"
        },
        "id": "R4KczftURNA_",
        "outputId": "e375f40b-87e8-4557-e788-f3561896d8ec"
      },
      "outputs": [
        {
          "output_type": "stream",
          "name": "stdout",
          "text": [
            "before swapping 10 20\n",
            "after swapping 20 10\n"
          ]
        }
      ],
      "source": [
        "#  Variables and Data Types\n",
        "# Write a Python program that swaps two numbers without using a third variable.\n",
        "a=10\n",
        "b=20\n",
        "print(\"before swapping\", a, b)\n",
        "a=a+b\n",
        "b=a-b\n",
        "a=a-b\n",
        "print(\"after swapping\", a, b)\n"
      ]
    },
    {
      "cell_type": "code",
      "source": [
        "# 2. Lists - Nested Lists\n",
        "# You have a nested list:\n",
        "# data = [[1, 2, 3], [4, 5, 6], [7, 8, 9]]\n",
        "# a) Extract and print the middle element from the nested list.\n",
        "# b) Flatten the list into a single list [1, 2, 3, 4, 5, 6, 7, 8, 9] without using loops.\n",
        "data = [[1, 2, 3], [4, 5, 6], [7, 8, 9]]\n",
        "print(\"middle element\", data[1][1])\n",
        "single_list = data[0]+data[1]+data[2]\n",
        "print(\"flatten single list\", single_list)"
      ],
      "metadata": {
        "colab": {
          "base_uri": "https://localhost:8080/"
        },
        "id": "4etKgMKkUyQn",
        "outputId": "59817a0e-2186-43a0-f559-a538bc058066"
      },
      "execution_count": null,
      "outputs": [
        {
          "output_type": "stream",
          "name": "stdout",
          "text": [
            "middle element 5\n",
            "flatten single list [1, 2, 3, 4, 5, 6, 7, 8, 9]\n"
          ]
        }
      ]
    },
    {
      "cell_type": "code",
      "source": [
        "# 3. Tuples - Tuple Unpacking\n",
        "# Given:\n",
        "# values = (100, 200, 300)\n",
        "# a) Unpack this tuple into three variables and print them.\n",
        "# b) Swap the values without using a temporary variable.\n",
        "values = (100, 200, 300)\n",
        "a,b,c = values\n",
        "a=a+b+c\n",
        "b=a-b-c\n",
        "c=a-b-c\n",
        "a=a-b-c\n",
        "print(\"swapped vaues\", a,b,c)"
      ],
      "metadata": {
        "colab": {
          "base_uri": "https://localhost:8080/"
        },
        "id": "6Hy2C0p6WgFw",
        "outputId": "c713a3a7-ec52-406e-b87b-aeff081912ce"
      },
      "execution_count": null,
      "outputs": [
        {
          "output_type": "stream",
          "name": "stdout",
          "text": [
            "swapped vaues 300 100 200\n"
          ]
        }
      ]
    },
    {
      "cell_type": "code",
      "source": [
        "# 4. Dictionary - Complex Keys\n",
        "# Create a dictionary where:\n",
        "# Keys are tuples representing (x, y) coordinates.\n",
        "# Values are the sum of x and y.\n",
        "# Example:\n",
        "# { (1,2): 3, (3,4): 7, (5,6): 11 }\n",
        "# Write a function to retrieve the sum for a given coordinate\n",
        "x= { (1,2): 3, (3,4): 7, (5,6): 11 }\n",
        "def get_coordinate_sum(coordinates, x):\n",
        "  if coordinates in x:\n",
        "    return x[coordinates]\n",
        "  else:\n",
        "    return None  # Or raise an exception if appropriate\n",
        "print(get_coordinate_sum((2,2), x))"
      ],
      "metadata": {
        "id": "haoYhWeyEzgG",
        "colab": {
          "base_uri": "https://localhost:8080/"
        },
        "outputId": "a69eec92-3638-4de9-a548-ceb8f4f9ad51"
      },
      "execution_count": null,
      "outputs": [
        {
          "output_type": "stream",
          "name": "stdout",
          "text": [
            "None\n"
          ]
        }
      ]
    },
    {
      "cell_type": "code",
      "source": [
        "# 5. Functions - Nested Functions\n",
        "# Write a function outer_function(a, b) that:\n",
        "# Contains an inner function to calculate a² + b².\n",
        "# Returns the result.\n",
        "# Call outer_function(3, 4) and print the result.\n",
        "def ot_function(a,b):\n",
        "  def in_function(x,y):\n",
        "     return (x*x)+(y*y)\n",
        "  return in_function(a,b)\n",
        "print(\"nested function\", ot_function(3,4))"
      ],
      "metadata": {
        "colab": {
          "base_uri": "https://localhost:8080/"
        },
        "id": "EonjvbCBWVpA",
        "outputId": "5f0a4d39-471c-48d6-89f1-f1b347d09e66"
      },
      "execution_count": null,
      "outputs": [
        {
          "output_type": "stream",
          "name": "stdout",
          "text": [
            "nested function 25\n"
          ]
        }
      ]
    },
    {
      "cell_type": "code",
      "source": [
        "# 6. Functions - Lambda & Map\n",
        "# You are given a list:\n",
        "# numbers = [1, 2, 3, 4, 5]\n",
        "# Use a lambda function and map() to generate a list where each number is cubed.\n",
        "numbers = [1, 2, 3, 4, 5]\n",
        "print(list(map(lambda n:n*n*n, numbers)))"
      ],
      "metadata": {
        "colab": {
          "base_uri": "https://localhost:8080/"
        },
        "id": "4aobQQLUWQFp",
        "outputId": "815ac990-9a76-4d05-c5e7-6776a60c144a"
      },
      "execution_count": null,
      "outputs": [
        {
          "output_type": "stream",
          "name": "stdout",
          "text": [
            "[1, 8, 27, 64, 125]\n"
          ]
        }
      ]
    },
    {
      "cell_type": "code",
      "source": [
        "# 7. Functions - Recursion\n",
        "# Write a recursive function to calculate the sum of digits of a given number.\n",
        "# Example:\n",
        "# Input: 1234\n",
        "# Output: 10  (1+2+3+4)\n",
        "def rec_fun(n):\n",
        "  sum= 0\n",
        "  if (n>0):\n",
        "    sum=sum+(n%10)\n",
        "    return sum+rec_fun(n//10)\n",
        "  else:\n",
        "    return sum\n",
        "\n",
        "x=int(input(\"enter a number:\",))\n",
        "print(\"sum of digits\", rec_fun(x))"
      ],
      "metadata": {
        "colab": {
          "base_uri": "https://localhost:8080/"
        },
        "id": "Ck8HVj3EWLf5",
        "outputId": "fae03ed9-a142-45c4-9bb5-581fe8eb47c2"
      },
      "execution_count": null,
      "outputs": [
        {
          "output_type": "stream",
          "name": "stdout",
          "text": [
            "enter a number:25\n",
            "sum of digits 7\n"
          ]
        }
      ]
    },
    {
      "cell_type": "code",
      "source": [
        "x=int(input(\"enter a number:\",))\n",
        "sum= 0\n",
        "while x>0:\n",
        "  sum=sum+x%10\n",
        "  x=x//10\n",
        "print(\"sum of digits\", sum)"
      ],
      "metadata": {
        "colab": {
          "base_uri": "https://localhost:8080/"
        },
        "id": "JZMktEJt_7pk",
        "outputId": "8dc116ba-b10c-4148-9b74-1df1a711cc15"
      },
      "execution_count": null,
      "outputs": [
        {
          "output_type": "stream",
          "name": "stdout",
          "text": [
            "enter a number:1234\n",
            "sum of digits 10\n"
          ]
        }
      ]
    },
    {
      "cell_type": "code",
      "source": [
        "# 8. List Comprehensions\n",
        "# Generate a list of all numbers between 1 and 100 that:\n",
        "# Are divisible by 5\n",
        "# But not by 3\n",
        "# Use list comprehension.\n",
        "li_comp = [i for i in range(1, 101) if i % 5 == 0 and i % 3 != 0]\n",
        "print(li_comp)"
      ],
      "metadata": {
        "colab": {
          "base_uri": "https://localhost:8080/"
        },
        "id": "M9D0ilSDWDMR",
        "outputId": "d888340d-bed6-4b44-9810-e2017e40b29e"
      },
      "execution_count": null,
      "outputs": [
        {
          "output_type": "stream",
          "name": "stdout",
          "text": [
            "[5, 10, 20, 25, 35, 40, 50, 55, 65, 70, 80, 85, 95, 100]\n"
          ]
        }
      ]
    },
    {
      "cell_type": "code",
      "source": [
        "# 9. Dictionary - Sorting by Values\n",
        "# Given:\n",
        "# scores = {\"Alice\": 90, \"Bob\": 85, \"Eve\": 92}\n",
        "# Sort this dictionary by values in descending order and print the result.\n",
        "scores = {\"Alice\": 90, \"Bob\": 85, \"Eve\": 92}\n",
        "x=sorted(scores.items(), key=lambda item:item[1],reverse=True)\n",
        "sorted_scores= dict(x)\n",
        "print(x)"
      ],
      "metadata": {
        "id": "bQcuu77_WD_a",
        "colab": {
          "base_uri": "https://localhost:8080/"
        },
        "outputId": "eb45e67d-1aee-49b8-8320-484e10270cb8"
      },
      "execution_count": null,
      "outputs": [
        {
          "output_type": "stream",
          "name": "stdout",
          "text": [
            "[('Eve', 92), ('Alice', 90), ('Bob', 85)]\n"
          ]
        }
      ]
    },
    {
      "cell_type": "code",
      "source": [
        "# 10. Sets - Unique Characters\n",
        "# Write a Python function that takes a string as input and returns:\n",
        "# A set of unique characters in the string.\n",
        "# The number of unique characters.\n",
        "# Example:\n",
        "# Input: \"hello\"\n",
        "# Output: {'h', 'e', 'l', 'o'}, 4\n",
        "\n",
        "def unique_character(x):\n",
        "  unique_chars = set(x)\n",
        "  num_unique_chars = len(unique_chars)\n",
        "  return unique_chars, num_unique_chars\n",
        "a = input(\"Enter a string: \")\n",
        "print(\"result:\",unique_character(a))\n"
      ],
      "metadata": {
        "colab": {
          "base_uri": "https://localhost:8080/"
        },
        "id": "0DFzPxyoZbhZ",
        "outputId": "f6338ea4-2f92-419a-bf5c-40aebda9f53a"
      },
      "execution_count": null,
      "outputs": [
        {
          "output_type": "stream",
          "name": "stdout",
          "text": [
            "Enter a string: hello\n",
            "result: ({'l', 'h', 'e', 'o'}, 4)\n"
          ]
        }
      ]
    },
    {
      "cell_type": "code",
      "source": [
        "# 11. Tuples - Finding Common Elements\n",
        "# Given two tuples:\n",
        "# t1 = (1, 2, 3, 4, 5)\n",
        "# t2 = (4, 5, 6, 7, 8)\n",
        "#   find and print the common elements.\n",
        "t1 = (1, 2, 3, 4, 5)\n",
        "t2 = (4, 5, 6, 7, 8)\n",
        "set1 = set(t1)\n",
        "set2 = set(t2)\n",
        "common_elements=set1.intersection(set2)\n",
        "common_elements_tuple=tuple(common_elements)\n",
        "print(\"The common elements in the given tuples:\", common_elements_tuple)"
      ],
      "metadata": {
        "colab": {
          "base_uri": "https://localhost:8080/"
        },
        "id": "vbZxMvnUSfLP",
        "outputId": "38a53044-077f-42b6-cba1-cb0a485fac50"
      },
      "execution_count": null,
      "outputs": [
        {
          "output_type": "stream",
          "name": "stdout",
          "text": [
            "The common elements in the given tuples: (4, 5)\n"
          ]
        }
      ]
    },
    {
      "cell_type": "code",
      "source": [
        "# 12. Dictionary - Reverse Key-Value Mapping\n",
        "# Given a dictionary:\n",
        "# data = {\"A\": 1, \"B\": 2, \"C\": 3}\n",
        "# Write a program to swap keys and values:\n",
        "# Output: {1: \"A\", 2: \"B\", 3: \"C\"}\n",
        "data = {\"A\": 1, \"B\": 2, \"C\": 3}\n",
        "reversed_data = {value: key for key, value in data.items()}\n",
        "print(reversed_data)"
      ],
      "metadata": {
        "colab": {
          "base_uri": "https://localhost:8080/"
        },
        "id": "f_f_E0rtd_uD",
        "outputId": "84ba7faa-86c0-4340-d7e4-053934acd738"
      },
      "execution_count": null,
      "outputs": [
        {
          "output_type": "stream",
          "name": "stdout",
          "text": [
            "{1: 'A', 2: 'B', 3: 'C'}\n"
          ]
        }
      ]
    },
    {
      "cell_type": "code",
      "source": [
        "# 13. Functions - Multiple Return Values\n",
        "# Write a function that takes two numbers as input and returns:\n",
        "# Their sum\n",
        "# Their difference\n",
        "# Their product\n",
        "# Their quotient\n",
        "# Print all four results.\n",
        "def mu_return(a,b):\n",
        "  sum = a+b\n",
        "  diff = a-b\n",
        "  pro = a*b\n",
        "  quit = a%b\n",
        "  return sum, diff,pro, quit\n",
        "\n",
        "x=int(input(\"enter number:\",))\n",
        "y=int(input(\"enter number:\",))\n",
        "print(\"all results:\", mu_return(x,y))"
      ],
      "metadata": {
        "id": "u7r_1j-nVvJL",
        "colab": {
          "base_uri": "https://localhost:8080/"
        },
        "outputId": "54622751-d8c9-4e74-bbd8-07bbac9f79b3"
      },
      "execution_count": null,
      "outputs": [
        {
          "output_type": "stream",
          "name": "stdout",
          "text": [
            "enter number:5\n",
            "enter number:3\n",
            "all results: (8, 2, 15, 2)\n"
          ]
        }
      ]
    },
    {
      "cell_type": "code",
      "source": [
        "# 14.List - Finding Second Largest Number\n",
        "# Write a function to find the second largest number in a given list without using sort().\n",
        "# Example:\n",
        "# Input: [10, 20, 4, 45, 99]\n",
        "# Output: 45\n",
        "\n",
        "def sec_largest(L1):\n",
        "  if len(L1)<2:\n",
        "    return None\n",
        "  largest = max(L1)\n",
        "  L1.remove(largest)\n",
        "  second_largest = max(L1)\n",
        "  return second_largest\n",
        "L = [10, 20, 4, 45, 99]\n",
        "# second_largest=sec_largest(L)\n",
        "print(\"The second largest number is:\", sec_largest(L))"
      ],
      "metadata": {
        "colab": {
          "base_uri": "https://localhost:8080/"
        },
        "id": "7GDrs2V9irQl",
        "outputId": "99f914f3-00f3-492c-c5df-d87aedc2ba82"
      },
      "execution_count": null,
      "outputs": [
        {
          "output_type": "stream",
          "name": "stdout",
          "text": [
            "The second largest number is: 45\n"
          ]
        }
      ]
    },
    {
      "cell_type": "code",
      "source": [
        "# 15. List - Pair Sum Problem\n",
        "# Given a list of numbers and a target sum, find all pairs in the list that add up to the target.\n",
        "# Example:\n",
        "# Input: [2, 4, 3, 7, 1, 9], Target: 10\n",
        "# Output: [(3, 7), (1, 9)]\n",
        "a=[2, 4, 3, 7, 1, 9]\n",
        "t=10\n",
        "out=[]\n",
        "for i in range(0, len(a)-1):\n",
        "  for j in range(i+1,len(a)):\n",
        "    if (a[i]+a[j]==t):\n",
        "      out.append((a[i],a[j]))\n",
        "print(\"the tarket sum 10 :\", out)\n",
        "\n",
        "\n"
      ],
      "metadata": {
        "id": "PjaWO7XZVdIb",
        "colab": {
          "base_uri": "https://localhost:8080/"
        },
        "outputId": "b1d40930-6efb-42ba-9ccd-dbf82927faa6"
      },
      "execution_count": null,
      "outputs": [
        {
          "output_type": "stream",
          "name": "stdout",
          "text": [
            "the tarket sum 10 : [(3, 7), (1, 9)]\n"
          ]
        }
      ]
    },
    {
      "cell_type": "code",
      "source": [
        "# Pandas & NumPy (5 Questions)\n",
        "# 16. Pandas - Filtering DataFrame\n",
        "# You are given the following Pandas DataFrame:\n",
        "# import pandas as pd\n",
        "# df = pd.DataFrame({\n",
        "#     \"Name\": [\"Alice\", \"Bob\", \"Charlie\", \"David\"],\n",
        "#     \"Age\": [24, 27, 22, 32],\n",
        "#     \"Score\": [85, 90, 78, 88]\n",
        "# })\n",
        "# Write a one-liner to filter and display only rows where Age is greater than 25.\n",
        "import pandas as pd\n",
        "df = pd.DataFrame({\n",
        "     \"Name\": [\"Alice\", \"Bob\", \"Charlie\", \"David\"],\n",
        "     \"Age\": [24, 27, 22, 32],\n",
        "     \"Score\": [85, 90, 78, 88]\n",
        "})\n",
        "print(df[df[\"Age\"]>25])"
      ],
      "metadata": {
        "id": "yBhs6txIVVE3",
        "colab": {
          "base_uri": "https://localhost:8080/"
        },
        "outputId": "740077bf-bb63-4892-842c-db22441cc02f"
      },
      "execution_count": null,
      "outputs": [
        {
          "output_type": "stream",
          "name": "stdout",
          "text": [
            "    Name  Age  Score\n",
            "1    Bob   27     90\n",
            "3  David   32     88\n"
          ]
        }
      ]
    },
    {
      "cell_type": "code",
      "source": [
        "# 17. Pandas - Group By Operation\n",
        "# You have the following DataFrame:\n",
        "# df = pd.DataFrame({\n",
        "#     \"Department\": [\"IT\", \"HR\", \"IT\", \"Finance\", \"HR\"],\n",
        "#     \"Salary\": [70000, 50000, 80000, 60000, 52000]\n",
        "# })\n",
        "# Write a Pandas command to calculate the average salary per department.\n",
        "import pandas as pd\n",
        "df = pd.DataFrame({\n",
        "     \"Department\": [\"IT\", \"HR\", \"IT\", \"Finance\", \"HR\"],\n",
        "      \"Salary\": [70000, 50000, 80000, 60000, 52000]\n",
        "})\n",
        "print(df.groupby(\"Department\")[\"Salary\"].mean())\n"
      ],
      "metadata": {
        "id": "LqfwujirVKLr",
        "colab": {
          "base_uri": "https://localhost:8080/"
        },
        "outputId": "850229d8-0e6d-49b4-d587-6b7ce9468e07"
      },
      "execution_count": null,
      "outputs": [
        {
          "output_type": "stream",
          "name": "stdout",
          "text": [
            "Department\n",
            "Finance    60000.0\n",
            "HR         51000.0\n",
            "IT         75000.0\n",
            "Name: Salary, dtype: float64\n"
          ]
        }
      ]
    },
    {
      "cell_type": "markdown",
      "source": [],
      "metadata": {
        "id": "ydwbJ_I9VI57"
      }
    },
    {
      "cell_type": "code",
      "source": [
        "# 18. NumPy - Create a 5x5 Matrix\n",
        "# Write a program to create a 5x5 NumPy matrix where:\n",
        "# The diagonal elements are 1\n",
        "# All other elements are 0\n",
        "# Example:\n",
        "# Output:\n",
        "# [[1 0 0 0 0]\n",
        "#  [0 1 0 0 0]\n",
        "#  [0 0 1 0 0]\n",
        "#  [0 0 0 1 0]\n",
        "#  [0 0 0 0 1]]\n",
        "# #\n",
        "import numpy as np\n",
        "matrix = np.zeros((5, 5), dtype=int)\n",
        "np.fill_diagonal(matrix, 1)\n",
        "print(matrix)"
      ],
      "metadata": {
        "id": "X14MTwrbVDnk",
        "colab": {
          "base_uri": "https://localhost:8080/"
        },
        "outputId": "6aee350f-55ce-40d2-eabc-5792029b51dd"
      },
      "execution_count": null,
      "outputs": [
        {
          "output_type": "stream",
          "name": "stdout",
          "text": [
            "[[1 0 0 0 0]\n",
            " [0 1 0 0 0]\n",
            " [0 0 1 0 0]\n",
            " [0 0 0 1 0]\n",
            " [0 0 0 0 1]]\n"
          ]
        }
      ]
    },
    {
      "cell_type": "code",
      "source": [
        "# 19. NumPy - Element-wise Operations\n",
        "# Given two NumPy arrays:\n",
        "# import numpy as np\n",
        "# a = np.array([1, 2, 3, 4])\n",
        "# b = np.array([10, 20, 30, 40])\n",
        "# Perform element-wise:\n",
        "# Addition\n",
        "# Multiplication\n",
        "# Power (a^b)\n",
        "# # Print the results.\n",
        "import numpy as np\n",
        "a = np.array([1, 2, 3, 4])\n",
        "b = np.array([10, 20, 30, 40])\n",
        "print(\"addition\", a+b)\n",
        "print(\"multiplication\", a*b)\n",
        "print(\"power\", a**b)"
      ],
      "metadata": {
        "id": "o4nCKFHFU8JV",
        "colab": {
          "base_uri": "https://localhost:8080/"
        },
        "outputId": "f70a8f2c-864f-4b59-e4c0-2426273b6062"
      },
      "execution_count": null,
      "outputs": [
        {
          "output_type": "stream",
          "name": "stdout",
          "text": [
            "addition [11 22 33 44]\n",
            "multiplication [ 10  40  90 160]\n",
            "power [              1         1048576 205891132094649               0]\n"
          ]
        }
      ]
    },
    {
      "cell_type": "code",
      "source": [
        "# 20. NumPy - Find Index of Maximum Value\n",
        "# Given:\n",
        "# arr = np.array([10, 25, 39, 50, 19])\n",
        "# Write a one-liner to find the index of the maximum value.\n"
      ],
      "metadata": {
        "id": "EoLG2FdMU5P1",
        "colab": {
          "base_uri": "https://localhost:8080/"
        },
        "outputId": "d595bc12-063e-416f-82f3-0df22f8f56d9"
      },
      "execution_count": null,
      "outputs": [
        {
          "output_type": "stream",
          "name": "stdout",
          "text": [
            "50\n"
          ]
        }
      ]
    },
    {
      "cell_type": "code",
      "source": [
        "import numpy as np\n",
        "arr = np.array([10, 25, 39, 50, 19])\n",
        "print(arr.max())"
      ],
      "metadata": {
        "id": "Vw2aFxiiGtQ6",
        "colab": {
          "base_uri": "https://localhost:8080/"
        },
        "outputId": "60b1c757-a785-43ad-c755-8cb7a5b11d1e"
      },
      "execution_count": null,
      "outputs": [
        {
          "output_type": "stream",
          "name": "stdout",
          "text": [
            "50\n"
          ]
        }
      ]
    }
  ]
}