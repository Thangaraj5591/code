{
  "nbformat": 4,
  "nbformat_minor": 0,
  "metadata": {
    "colab": {
      "provenance": [],
      "mount_file_id": "1NoSy7rXZE0BHcrslZ3qJSQ8FStZSVi-w",
      "authorship_tag": "ABX9TyP/3BQ6FCh6b7L93n8QrVdy",
      "include_colab_link": true
    },
    "kernelspec": {
      "name": "python3",
      "display_name": "Python 3"
    },
    "language_info": {
      "name": "python"
    }
  },
  "cells": [
    {
      "cell_type": "markdown",
      "metadata": {
        "id": "view-in-github",
        "colab_type": "text"
      },
      "source": [
        "<a href=\"https://colab.research.google.com/github/Thangaraj5591/code/blob/main/excersice_3_sirpi.ipynb\" target=\"_parent\"><img src=\"https://colab.research.google.com/assets/colab-badge.svg\" alt=\"Open In Colab\"/></a>"
      ]
    },
    {
      "cell_type": "code",
      "source": [
        "from google.colab import drive\n",
        "drive.mount('/content/drive')"
      ],
      "metadata": {
        "colab": {
          "base_uri": "https://localhost:8080/"
        },
        "id": "Eh4vSMoui-ay",
        "outputId": "3eabb5ab-0af3-44dd-e5cb-28b65f9bdbdb"
      },
      "execution_count": null,
      "outputs": [
        {
          "output_type": "stream",
          "name": "stdout",
          "text": [
            "Drive already mounted at /content/drive; to attempt to forcibly remount, call drive.mount(\"/content/drive\", force_remount=True).\n"
          ]
        }
      ]
    },
    {
      "cell_type": "code",
      "execution_count": null,
      "metadata": {
        "id": "oCOqBBM9RU1G",
        "colab": {
          "base_uri": "https://localhost:8080/"
        },
        "outputId": "852ad6bb-f948-474a-cda6-3813bbb778c5"
      },
      "outputs": [
        {
          "output_type": "stream",
          "name": "stdout",
          "text": [
            "<bound method DataFrame.info of      symboling  normalized_losses         make fuel_type aspiration  \\\n",
            "0            3                168  alfa-romero       gas        std   \n",
            "1            3                168  alfa-romero       gas        std   \n",
            "2            1                168  alfa-romero       gas        std   \n",
            "3            2                164         audi       gas        std   \n",
            "4            2                164         audi       gas        std   \n",
            "..         ...                ...          ...       ...        ...   \n",
            "196         -1                 95        volvo       gas        std   \n",
            "197         -1                 95        volvo       gas      turbo   \n",
            "198         -1                 95        volvo       gas        std   \n",
            "199         -1                 95        volvo    diesel      turbo   \n",
            "200         -1                 95        volvo       gas      turbo   \n",
            "\n",
            "    number_of_doors   body_style drive_wheels engine_location  wheel_base  \\\n",
            "0               two  convertible          rwd           front        88.6   \n",
            "1               two  convertible          rwd           front        88.6   \n",
            "2               two    hatchback          rwd           front        94.5   \n",
            "3              four        sedan          fwd           front        99.8   \n",
            "4              four        sedan          4wd           front        99.4   \n",
            "..              ...          ...          ...             ...         ...   \n",
            "196            four        sedan          rwd           front       109.1   \n",
            "197            four        sedan          rwd           front       109.1   \n",
            "198            four        sedan          rwd           front       109.1   \n",
            "199            four        sedan          rwd           front       109.1   \n",
            "200            four        sedan          rwd           front       109.1   \n",
            "\n",
            "     ...  engine_size  fuel_system  bore  stroke compression_ratio horsepower  \\\n",
            "0    ...          130         mpfi  3.47    2.68               9.0        111   \n",
            "1    ...          130         mpfi  3.47    2.68               9.0        111   \n",
            "2    ...          152         mpfi  2.68    3.47               9.0        154   \n",
            "3    ...          109         mpfi  3.19    3.40              10.0        102   \n",
            "4    ...          136         mpfi  3.19    3.40               8.0        115   \n",
            "..   ...          ...          ...   ...     ...               ...        ...   \n",
            "196  ...          141         mpfi  3.78    3.15               9.5        114   \n",
            "197  ...          141         mpfi  3.78    3.15               8.7        160   \n",
            "198  ...          173         mpfi  3.58    2.87               8.8        134   \n",
            "199  ...          145          idi  3.01    3.40              23.0        106   \n",
            "200  ...          141         mpfi  3.78    3.15               9.5        114   \n",
            "\n",
            "     peak_rpm city_mpg  highway_mpg  price  \n",
            "0        5000       21           27  13495  \n",
            "1        5000       21           27  16500  \n",
            "2        5000       19           26  16500  \n",
            "3        5500       24           30  13950  \n",
            "4        5500       18           22  17450  \n",
            "..        ...      ...          ...    ...  \n",
            "196      5400       23           28  16845  \n",
            "197      5300       19           25  19045  \n",
            "198      5500       18           23  21485  \n",
            "199      4800       26           27  22470  \n",
            "200      5400       19           25  22625  \n",
            "\n",
            "[201 rows x 26 columns]>\n",
            "Minimum Price: 5118, Fuel Type: gas\n",
            "Maximum Price: 45400, Fuel Type: gas\n",
            "['dohc' 'ohcv' 'ohc' 'l' 'rotor' 'ohcf']\n",
            "Horsepower range: 48 to 262\n",
            "Average City MPG: 25.17910447761194\n",
            "Average Highway MPG: 30.686567164179106\n",
            "Highway MPG is better on average.\n",
            "Unique Automobile Makes: ['alfa-romero' 'audi' 'bmw' 'chevrolet' 'dodge' 'honda' 'isuzu' 'jaguar'\n",
            " 'mazda' 'mercedes-benz' 'mercury' 'mitsubishi' 'nissan' 'peugot'\n",
            " 'plymouth' 'porsche' 'renault' 'saab' 'subaru' 'toyota' 'volkswagen'\n",
            " 'volvo']\n",
            "Automobile Make with the Maximum Count: toyota\n"
          ]
        }
      ],
      "source": [
        "# 1. Loading a CSV File & Basic Exploration\n",
        "# Given a CSV file named \"Automobile.csv\":\n",
        "# Task\n",
        "# Write Python code to:\n",
        "# Load the CSV file into a Pandas DataFrame.\n",
        "# •\tDisplay the first 30 rows.\n",
        "# •\tPrint column names.\n",
        "# •\tPrint No of Rows & Columns\n",
        "# •\tFind the Data Types of every column & check if there are any mismatch\n",
        "# •\tWhat are the minimum & maximum price of the car & state fuel type they belong to\n",
        "# •\tList all the unique engine types\n",
        "# •\tFind the horsepower range\n",
        "# •\tWhat is the average mpg in cities & highway. Which is better?\n",
        "# •\tWhat are the different Automobile makes present & which has maximum count?\n",
        "import pandas as pd\n",
        "path =\"/content/drive/MyDrive/csvfiles/Automobile.csv\"\n",
        "df = pd.read_csv(path)\n",
        "df.head(30)\n",
        "print(df.info)\n",
        "# •\tPrint No of Rows & Columns\n",
        "# print(df.shape)\n",
        "# •\tFind the Data Types of every column & check if there are any mismatch\n",
        "df.dtypes\n",
        "# •\tWhat are the minimum & maximum price of the car & state fuel type they belong to\n",
        "min_price = df['price'].min()\n",
        "max_price = df['price'].max()\n",
        "\n",
        "min_price_row = df[df['price'] == min_price]\n",
        "max_price_row = df[df['price'] == max_price]\n",
        "\n",
        "min_price_fuel_type = min_price_row['fuel_type'].values[0]\n",
        "max_price_fuel_type = max_price_row['fuel_type'].values[0]\n",
        "\n",
        "print(f\"Minimum Price: {min_price}, Fuel Type: {min_price_fuel_type}\")\n",
        "print(f\"Maximum Price: {max_price}, Fuel Type: {max_price_fuel_type}\")\n",
        "# •\tList all the unique engine types\n",
        "unique_engine_types = df['engine_type'].unique()\n",
        "print(unique_engine_types)\n",
        "# •\tFind the horsepower range\n",
        "max_horsepower = df['horsepower'].max()\n",
        "min_horsepower = df['horsepower'].min()\n",
        "\n",
        "print(f\"Horsepower range: {min_horsepower} to {max_horsepower}\")\n",
        "# •\tWhat is the average mpg in cities & highway. Which is better?\n",
        "avg_city_mpg = df['city_mpg'].mean()\n",
        "avg_highway_mpg = df['highway_mpg'].mean()\n",
        "\n",
        "print(f\"Average City MPG: {avg_city_mpg}\")\n",
        "print(f\"Average Highway MPG: {avg_highway_mpg}\")\n",
        "\n",
        "if avg_city_mpg > avg_highway_mpg:\n",
        "    print(\"City MPG is better on average.\")\n",
        "elif avg_highway_mpg > avg_city_mpg:\n",
        "    print(\"Highway MPG is better on average.\")\n",
        "else:\n",
        "    print(\"City and Highway MPG are equal on average.\")\n",
        "# •\tWhat are the different Automobile makes present & which has maximum count?\n",
        "unique_makes = df['make'].unique()\n",
        "print(\"Unique Automobile Makes:\",unique_makes)\n",
        "make_counts = df['make'].value_counts()\n",
        "max_make = make_counts.idxmax()\n",
        "print(\"Automobile Make with the Maximum Count:\", max_make)\n"
      ]
    },
    {
      "cell_type": "code",
      "source": [
        "# 2. Accessing Data with .loc[]\n",
        "# Using the following DataFrame:\n",
        "# df = pd.DataFrame({\n",
        "#     \"Name\": [\"Alice\", \"Bob\", \"Charlie\", \"David\"],\n",
        "#     \"Age\": [24, 27, 22, 32],\n",
        "#     \"Score\": [85, 90, 78, 88]\n",
        "# })\n",
        "# Task\n",
        "# •\tRetrieve the row where Name == \"Charlie\" using .loc[].\n",
        "# •\tSelect only the Age and Score columns for \"Alice\" and \"Bob\" using .loc[].\n",
        "# ________________________________________\n",
        "import pandas as pd\n",
        "df = pd.DataFrame({\n",
        "     \"Name\": [\"Alice\", \"Bob\", \"Charlie\", \"David\"],\n",
        "     \"Age\": [24, 27, 22, 32],\n",
        "     \"Score\": [85, 90, 78, 88]\n",
        "})\n",
        "print(df)\n",
        "print(df.loc[df[\"Name\"] == \"Charlie\"])\n",
        "print(df.loc[df[\"Name\"].isin([\"Alice\", \"Bob\"]), [\"Age\", \"Score\"]])\n"
      ],
      "metadata": {
        "id": "o7tv4Pz0SHvM",
        "colab": {
          "base_uri": "https://localhost:8080/"
        },
        "outputId": "6ed9b6d5-65f9-49e7-9d27-9979d1dbc524"
      },
      "execution_count": null,
      "outputs": [
        {
          "output_type": "stream",
          "name": "stdout",
          "text": [
            "      Name  Age  Score\n",
            "0    Alice   24     85\n",
            "1      Bob   27     90\n",
            "2  Charlie   22     78\n",
            "3    David   32     88\n",
            "      Name  Age  Score\n",
            "2  Charlie   22     78\n",
            "   Age  Score\n",
            "0   24     85\n",
            "1   27     90\n"
          ]
        }
      ]
    },
    {
      "cell_type": "code",
      "source": [
        "# 3. Accessing Data with .iloc[]\n",
        "# Using the same DataFrame from Question 2, write code to:\n",
        "# •\tRetrieve the second row using .iloc[].\n",
        "# •\tExtract the last two rows using .iloc[].\n",
        "# ________________________________________\n",
        "import pandas as pd\n",
        "df = pd.DataFrame({\n",
        "     \"Name\": [\"Alice\", \"Bob\", \"Charlie\", \"David\"],\n",
        "     \"Age\": [24, 27, 22, 32],\n",
        "     \"Score\": [85, 90, 78, 88]\n",
        "})\n",
        "print(df)\n",
        "print(df.iloc[1])\n",
        "print(df.iloc[-2:])"
      ],
      "metadata": {
        "id": "A30TSihVSPgX",
        "colab": {
          "base_uri": "https://localhost:8080/"
        },
        "outputId": "b6741ec1-87e9-402c-9e99-6cf98879c858"
      },
      "execution_count": null,
      "outputs": [
        {
          "output_type": "stream",
          "name": "stdout",
          "text": [
            "      Name  Age  Score\n",
            "0    Alice   24     85\n",
            "1      Bob   27     90\n",
            "2  Charlie   22     78\n",
            "3    David   32     88\n",
            "Name     Bob\n",
            "Age       27\n",
            "Score     90\n",
            "Name: 1, dtype: object\n",
            "      Name  Age  Score\n",
            "2  Charlie   22     78\n",
            "3    David   32     88\n"
          ]
        }
      ]
    },
    {
      "cell_type": "code",
      "source": [
        "# 4. Filtering Rows Based on Conditions\n",
        "# Using the following DataFrame:\n",
        "# df = pd.DataFrame({\n",
        "#     \"Employee\": [\"John\", \"Alice\", \"Bob\", \"David\"],\n",
        "#     \"Salary\": [50000, 60000, 55000, 65000],\n",
        "#     \"Department\": [\"IT\", \"HR\", \"IT\", \"Finance\"]\n",
        "# })\n",
        "# Task\n",
        "# Write a Pandas command to:\n",
        "# •\tSelect only IT employees.\n",
        "# •\tSelect employees with a salary greater than 55,000.\n",
        "# ________________________________________\n",
        "import pandas as pd\n",
        "df = pd.DataFrame({\n",
        "     \"Employee\": [\"John\", \"Alice\", \"Bob\", \"David\"],\n",
        "     \"Salary\": [50000, 60000, 55000, 65000],\n",
        "     \"Department\": [\"IT\", \"HR\", \"IT\", \"Finance\"]\n",
        " })\n",
        "# df.loc[df[\"Department\"] == \"IT\"]\n",
        "# df.loc[df[\"Salary\"]>55000]\n",
        "print(df[df[\"Department\"]== \"IT\"])\n",
        "print(df[df[\"Salary\"]>55000])"
      ],
      "metadata": {
        "id": "B0k9CKdLS5lQ",
        "colab": {
          "base_uri": "https://localhost:8080/"
        },
        "outputId": "50878628-c863-4282-8925-15fef843953e"
      },
      "execution_count": null,
      "outputs": [
        {
          "output_type": "stream",
          "name": "stdout",
          "text": [
            "  Employee  Salary Department\n",
            "0     John   50000         IT\n",
            "2      Bob   55000         IT\n",
            "  Employee  Salary Department\n",
            "1    Alice   60000         HR\n",
            "3    David   65000    Finance\n"
          ]
        }
      ]
    },
    {
      "cell_type": "code",
      "source": [
        "# 5. Applying Functions to a Column\n",
        "# Using the following DataFrame:\n",
        "# df = pd.DataFrame({\n",
        "#     \"Student\": [\"A\", \"B\", \"C\", \"D\"],\n",
        "#     \"Marks\": [45, 78, 62, 90]\n",
        "# })\n",
        "# Task\n",
        "# Write a function that:\n",
        "# •\tConverts marks below 50 to \"Fail\", and 50 or above to \"Pass\".\n",
        "# •\tApply this function to the \"Marks\" column and create a new column \"Result\".\n",
        "# ________________________________________\n",
        "import pandas as pd\n",
        "df = pd.DataFrame({\n",
        "     \"Student\": [\"A\", \"B\", \"C\", \"D\"],\n",
        "     \"Marks\": [45, 78, 62, 90]\n",
        " })\n",
        "df.loc[df[\"Marks\"] >= 50, \"Result\"] = \"Pass\"\n",
        "df.loc[df[\"Marks\"] < 50, \"Result\"] = \"Fail\"\n",
        "print(df)"
      ],
      "metadata": {
        "id": "ObSy7aVnTJ2H",
        "colab": {
          "base_uri": "https://localhost:8080/"
        },
        "outputId": "c644bfb2-a6f8-45d8-d622-d8012ce44613"
      },
      "execution_count": null,
      "outputs": [
        {
          "output_type": "stream",
          "name": "stdout",
          "text": [
            "  Student  Marks Result\n",
            "0       A     45   Fail\n",
            "1       B     78   Pass\n",
            "2       C     62   Pass\n",
            "3       D     90   Pass\n"
          ]
        }
      ]
    },
    {
      "cell_type": "code",
      "source": [
        "# 6. NumPy - Creating and Reshaping Arrays\n",
        "# Write Python code to:\n",
        "# •\tCreate a NumPy array with values from 1 to 12.\n",
        "# •\tReshape it into a 3x4 matrix.\n",
        "# ________________________________________\n",
        "import numpy as np\n",
        "# n1 = np.arange(1,13)\n",
        "n1 = np.array([1,2,3,4,5,6,7,8,9,10,11,12])\n",
        "n2 = n1.reshape(3,4)\n",
        "print(n2)"
      ],
      "metadata": {
        "id": "la1f3fQNTPxB",
        "colab": {
          "base_uri": "https://localhost:8080/"
        },
        "outputId": "4b566033-1fc9-4ead-92aa-f53130b3e3b4"
      },
      "execution_count": null,
      "outputs": [
        {
          "output_type": "stream",
          "name": "stdout",
          "text": [
            "[[ 1  2  3  4]\n",
            " [ 5  6  7  8]\n",
            " [ 9 10 11 12]]\n"
          ]
        }
      ]
    },
    {
      "cell_type": "code",
      "source": [
        "# 7. NumPy - Broadcasting & Element-wise Operations\n",
        "# You are given the following NumPy arrays:\n",
        "# a = np.array([1, 2, 3])\n",
        "# b = np.array([10, 20, 30])\n",
        "# Task\n",
        "# Perform:\n",
        "# 1.\tElement-wise multiplication of a and b.\n",
        "import numpy as np\n",
        "a = np.array([1, 2, 3])\n",
        "b = np.array([10, 20, 30])\n",
        "c = a*b\n",
        "print(c)\n",
        "# 2.\tAdd 5 to each element of a using broadcasting.\n",
        "print(a+5,b+5)\n",
        "# ________________________________________"
      ],
      "metadata": {
        "id": "wWzuT7KCTUI1",
        "colab": {
          "base_uri": "https://localhost:8080/"
        },
        "outputId": "3ef53f38-affd-40e0-c9e2-9ea924abd8dc"
      },
      "execution_count": null,
      "outputs": [
        {
          "output_type": "stream",
          "name": "stdout",
          "text": [
            "[10 40 90]\n",
            "[6 7 8] [15 25 35]\n"
          ]
        }
      ]
    },
    {
      "cell_type": "code",
      "source": [
        "# 8. Finding Maximum and Minimum Values in a NumPy Array\n",
        "# Given:\n",
        "# arr = np.array([[3, 7, 2], [4, 9, 6]])\n",
        "# Task\n",
        "# •\tFind the maximum value in the entire array.\n",
        "import numpy as np\n",
        "arr = np.array([[3, 7, 2], [4, 9, 6]])\n",
        "print(arr.max())\n",
        "# •\tFind the minimum value in each row.\n",
        "print(arr.min(axis=1))\n",
        "# ________________________________________"
      ],
      "metadata": {
        "id": "ThNRUrgOTbcb",
        "colab": {
          "base_uri": "https://localhost:8080/"
        },
        "outputId": "bba6a0ad-ca90-4077-99b2-2a6d413785b7"
      },
      "execution_count": null,
      "outputs": [
        {
          "output_type": "stream",
          "name": "stdout",
          "text": [
            "9\n",
            "[2 4]\n"
          ]
        }
      ]
    },
    {
      "cell_type": "code",
      "source": [
        "# 9. Grouping & Aggregation in Pandas\n",
        "# You have the following DataFrame:\n",
        "# df = pd.DataFrame({\n",
        "#     \"Department\": [\"IT\", \"HR\", \"IT\", \"Finance\", \"HR\"],\n",
        "#     \"Salary\": [70000, 50000, 80000, 60000, 52000]\n",
        "# })\n",
        "# Task\n",
        "# Write a Pandas command to:\n",
        "# •\tGroup the DataFrame by \"Department\" and calculate the average salary per department.\n",
        "# ________________________________________\n",
        "import pandas as pd\n",
        "df = pd.DataFrame({\n",
        "     \"Department\": [\"IT\", \"HR\", \"IT\", \"Finance\", \"HR\"],\n",
        "     \"Salary\": [70000, 50000, 80000, 60000, 52000]\n",
        "})\n",
        "print(df.groupby(\"Department\").mean())"
      ],
      "metadata": {
        "id": "M52WbR8vTocu",
        "colab": {
          "base_uri": "https://localhost:8080/"
        },
        "outputId": "e587672c-4073-4290-b4d9-c098e233e898"
      },
      "execution_count": null,
      "outputs": [
        {
          "output_type": "stream",
          "name": "stdout",
          "text": [
            "             Salary\n",
            "Department         \n",
            "Finance     60000.0\n",
            "HR          51000.0\n",
            "IT          75000.0\n"
          ]
        }
      ]
    },
    {
      "cell_type": "code",
      "source": [
        "# 10. Sorting a DataFrame\n",
        "# Given the following DataFrame:\n",
        "# df = pd.DataFrame({\n",
        "#     \"City\": [\"New York\", \"Los Angeles\", \"Chicago\", \"Houston\"],\n",
        "#     \"Population\": [8419600, 3980400, 2716000, 2328000]\n",
        "# })\n",
        "# Task\n",
        "# •\tSort the DataFrame by Population in descending order.\n",
        "# ________________________________________\n",
        "import pandas as pd\n",
        "df = pd.DataFrame({\n",
        "     \"City\": [\"New York\", \"Los Angeles\", \"Chicago\", \"Houston\"],\n",
        "     \"Population\": [8419600, 3980400, 2716000, 2328000]\n",
        " })\n",
        "print(df.sort_values(\"Population\",ascending=False))\n"
      ],
      "metadata": {
        "id": "x7oi5UJeTsiN",
        "colab": {
          "base_uri": "https://localhost:8080/"
        },
        "outputId": "d19bc1b9-8fa0-4e72-cced-137ff6521281"
      },
      "execution_count": null,
      "outputs": [
        {
          "output_type": "stream",
          "name": "stdout",
          "text": [
            "          City  Population\n",
            "0     New York     8419600\n",
            "1  Los Angeles     3980400\n",
            "2      Chicago     2716000\n",
            "3      Houston     2328000\n"
          ]
        }
      ]
    },
    {
      "cell_type": "code",
      "source": [
        "# 11. Multi-Indexing in Pandas\n",
        "# You are given the following DataFrame:\n",
        "# data = {\n",
        "#     \"Region\": [\"North\", \"North\", \"South\", \"South\", \"East\", \"East\"],\n",
        "#     \"City\": [\"A\", \"B\", \"A\", \"B\", \"A\", \"B\"],\n",
        "#     \"Sales\": [200, 150, 180, 220, 300, 250]\n",
        "# }\n",
        "# df = pd.DataFrame(data).set_index([\"Region\", \"City\"])\n",
        "# Task\n",
        "# •\tRetrieve the sales value for City A in the South Region using multi-indexing.\n",
        "# ________________________________________\n",
        "import pandas as pd\n",
        "data = {\n",
        "     \"Region\": [\"North\", \"North\", \"South\", \"South\", \"East\", \"East\"],\n",
        "     \"City\": [\"A\", \"B\", \"A\", \"B\", \"A\", \"B\"],\n",
        "     \"Sales\": [200, 150, 180, 220, 300, 250]\n",
        " }\n",
        "df = pd.DataFrame(data).set_index([\"Region\", \"City\"])\n",
        "print(df.loc[(\"South\",\"A\")])\n",
        "# df.loc[(\"South\",\"A\"), \"Sales\"]"
      ],
      "metadata": {
        "id": "Z0yWNnHfTyHw",
        "colab": {
          "base_uri": "https://localhost:8080/"
        },
        "outputId": "ac8b038c-ea76-41a9-e848-e8d61ee4ec3b"
      },
      "execution_count": null,
      "outputs": [
        {
          "output_type": "stream",
          "name": "stdout",
          "text": [
            "Sales    180\n",
            "Name: (South, A), dtype: int64\n"
          ]
        }
      ]
    },
    {
      "cell_type": "code",
      "source": [
        "# 12. Creating a DataFrame from a NumPy Array\n",
        "# Generate a 5x4 NumPy array with random integers between 10 and 99 and convert it into a Pandas DataFrame with column names [\"A\", \"B\", \"C\", \"D\"].\n",
        "# ________________________________________\n",
        "import numpy as np\n",
        "arr = np.random.randint(10,99,size=(5,4))\n",
        "print(arr)\n",
        "df = pd.DataFrame(arr, columns=[\"A\",\"B\",\"C\",\"D\"])\n",
        "print(df)"
      ],
      "metadata": {
        "id": "aghuLT2WUBhA",
        "colab": {
          "base_uri": "https://localhost:8080/"
        },
        "outputId": "c258bc24-8b86-4f49-ac62-62606cfe220a"
      },
      "execution_count": null,
      "outputs": [
        {
          "output_type": "stream",
          "name": "stdout",
          "text": [
            "[[33 45 85 32]\n",
            " [70 69 58 11]\n",
            " [51 53 49 54]\n",
            " [10 98 69 16]\n",
            " [95 95 20 27]]\n",
            "    A   B   C   D\n",
            "0  33  45  85  32\n",
            "1  70  69  58  11\n",
            "2  51  53  49  54\n",
            "3  10  98  69  16\n",
            "4  95  95  20  27\n"
          ]
        }
      ]
    },
    {
      "cell_type": "code",
      "source": [
        "# 13. Conditional Column Update\n",
        "# Given the following DataFrame:\n",
        "# df = pd.DataFrame({\n",
        "#     \"Student\": [\"Alice\", \"Bob\", \"Charlie\", \"David\"],\n",
        "#     \"Marks\": [88, 45, 76, 90],\n",
        "#     \"Attendance\": [85, 50, 90, 60]\n",
        "# })\n",
        "# Task\n",
        "# Write a one-liner Pandas command to set \"Marks\" to 0 for students whose \"Attendance\" is less than 60.\n",
        "# ________________________________________\n",
        "import pandas as pd\n",
        "df = pd.DataFrame({\n",
        "     \"Student\": [\"Alice\", \"Bob\", \"Charlie\", \"David\"],\n",
        "     \"Marks\": [88, 45, 76, 90],\n",
        "     \"Attendance\": [85, 50, 90, 60]\n",
        "})\n",
        "df.loc[df[\"Attendance\"]<60, \"Marks\"]=0\n",
        "print(df)"
      ],
      "metadata": {
        "id": "KtqxcPMNUF0I",
        "colab": {
          "base_uri": "https://localhost:8080/"
        },
        "outputId": "8d03d455-c26f-4fd1-c231-de4c36ffe372"
      },
      "execution_count": null,
      "outputs": [
        {
          "output_type": "stream",
          "name": "stdout",
          "text": [
            "   Student  Marks  Attendance\n",
            "0    Alice     88          85\n",
            "1      Bob      0          50\n",
            "2  Charlie     76          90\n",
            "3    David     90          60\n"
          ]
        }
      ]
    },
    {
      "cell_type": "code",
      "source": [
        "# 14. Advanced Filtering\n",
        "# From a CSV file \"employees.csv\" with columns:\n",
        "# EmployeeID, Department, Salary, Experience (in years).\n",
        "# Note: You should create “employees.csv” & perform the below task\n",
        "# Task\n",
        "# Write a Pandas query to:\n",
        "# •\tSelect employees from \"IT\" or \"Finance\" department\n",
        "# •\tHaving Salary > 60,000\n",
        "# •\tAND at least 5 years of experience\n",
        "# # _______________________________________\n",
        "import pandas as pd\n",
        "path = \"/content/drive/MyDrive/csvfiles/employees.csv\"\n",
        "df = pd.read_csv(path)\n",
        "# new_df = df.loc[df[\"Experience\"]>=5]\n",
        "# print(new_df.groupby(\"Department\")[\"Salary\"]>60000)\n",
        "# x=df[(df[\"Department\"].isin([\"IT\", \"Finance\"])) &\n",
        "# (df[\"Salary\"]>60000) & (df[\"Experience\"]>=5)\n",
        "# ]\n",
        "filtered_df = df[\n",
        "    (df[\"Department\"].isin([\"IT\", \"Finance\"])) &\n",
        "    (df[\"Salary\"] > 60000) &\n",
        "    (df[\"Experience\"] > 5)\n",
        "]\n",
        "print(filtered_df)\n"
      ],
      "metadata": {
        "id": "ti1w2QZLULAA",
        "colab": {
          "base_uri": "https://localhost:8080/",
          "height": 547
        },
        "outputId": "cfd5040d-137c-44e6-8776-b7fe9b9b464c"
      },
      "execution_count": null,
      "outputs": [
        {
          "output_type": "error",
          "ename": "KeyError",
          "evalue": "'Experience'",
          "traceback": [
            "\u001b[0;31m---------------------------------------------------------------------------\u001b[0m",
            "\u001b[0;31mKeyError\u001b[0m                                  Traceback (most recent call last)",
            "\u001b[0;32m/usr/local/lib/python3.11/dist-packages/pandas/core/indexes/base.py\u001b[0m in \u001b[0;36mget_loc\u001b[0;34m(self, key)\u001b[0m\n\u001b[1;32m   3804\u001b[0m         \u001b[0;32mtry\u001b[0m\u001b[0;34m:\u001b[0m\u001b[0;34m\u001b[0m\u001b[0;34m\u001b[0m\u001b[0m\n\u001b[0;32m-> 3805\u001b[0;31m             \u001b[0;32mreturn\u001b[0m \u001b[0mself\u001b[0m\u001b[0;34m.\u001b[0m\u001b[0m_engine\u001b[0m\u001b[0;34m.\u001b[0m\u001b[0mget_loc\u001b[0m\u001b[0;34m(\u001b[0m\u001b[0mcasted_key\u001b[0m\u001b[0;34m)\u001b[0m\u001b[0;34m\u001b[0m\u001b[0;34m\u001b[0m\u001b[0m\n\u001b[0m\u001b[1;32m   3806\u001b[0m         \u001b[0;32mexcept\u001b[0m \u001b[0mKeyError\u001b[0m \u001b[0;32mas\u001b[0m \u001b[0merr\u001b[0m\u001b[0;34m:\u001b[0m\u001b[0;34m\u001b[0m\u001b[0;34m\u001b[0m\u001b[0m\n",
            "\u001b[0;32mindex.pyx\u001b[0m in \u001b[0;36mpandas._libs.index.IndexEngine.get_loc\u001b[0;34m()\u001b[0m\n",
            "\u001b[0;32mindex.pyx\u001b[0m in \u001b[0;36mpandas._libs.index.IndexEngine.get_loc\u001b[0;34m()\u001b[0m\n",
            "\u001b[0;32mpandas/_libs/hashtable_class_helper.pxi\u001b[0m in \u001b[0;36mpandas._libs.hashtable.PyObjectHashTable.get_item\u001b[0;34m()\u001b[0m\n",
            "\u001b[0;32mpandas/_libs/hashtable_class_helper.pxi\u001b[0m in \u001b[0;36mpandas._libs.hashtable.PyObjectHashTable.get_item\u001b[0;34m()\u001b[0m\n",
            "\u001b[0;31mKeyError\u001b[0m: 'Experience'",
            "\nThe above exception was the direct cause of the following exception:\n",
            "\u001b[0;31mKeyError\u001b[0m                                  Traceback (most recent call last)",
            "\u001b[0;32m<ipython-input-8-c148d516122f>\u001b[0m in \u001b[0;36m<cell line: 0>\u001b[0;34m()\u001b[0m\n\u001b[1;32m     20\u001b[0m     \u001b[0;34m(\u001b[0m\u001b[0mdf\u001b[0m\u001b[0;34m[\u001b[0m\u001b[0;34m\"Department\"\u001b[0m\u001b[0;34m]\u001b[0m\u001b[0;34m.\u001b[0m\u001b[0misin\u001b[0m\u001b[0;34m(\u001b[0m\u001b[0;34m[\u001b[0m\u001b[0;34m\"IT\"\u001b[0m\u001b[0;34m,\u001b[0m \u001b[0;34m\"Finance\"\u001b[0m\u001b[0;34m]\u001b[0m\u001b[0;34m)\u001b[0m\u001b[0;34m)\u001b[0m \u001b[0;34m&\u001b[0m\u001b[0;34m\u001b[0m\u001b[0;34m\u001b[0m\u001b[0m\n\u001b[1;32m     21\u001b[0m     \u001b[0;34m(\u001b[0m\u001b[0mdf\u001b[0m\u001b[0;34m[\u001b[0m\u001b[0;34m\"Salary\"\u001b[0m\u001b[0;34m]\u001b[0m \u001b[0;34m>\u001b[0m \u001b[0;36m60000\u001b[0m\u001b[0;34m)\u001b[0m \u001b[0;34m&\u001b[0m\u001b[0;34m\u001b[0m\u001b[0;34m\u001b[0m\u001b[0m\n\u001b[0;32m---> 22\u001b[0;31m     \u001b[0;34m(\u001b[0m\u001b[0mdf\u001b[0m\u001b[0;34m[\u001b[0m\u001b[0;34m\"Experience\"\u001b[0m\u001b[0;34m]\u001b[0m \u001b[0;34m>\u001b[0m \u001b[0;36m5\u001b[0m\u001b[0;34m)\u001b[0m\u001b[0;34m\u001b[0m\u001b[0;34m\u001b[0m\u001b[0m\n\u001b[0m\u001b[1;32m     23\u001b[0m ]\n\u001b[1;32m     24\u001b[0m \u001b[0mprint\u001b[0m\u001b[0;34m(\u001b[0m\u001b[0mfiltered_df\u001b[0m\u001b[0;34m)\u001b[0m\u001b[0;34m\u001b[0m\u001b[0;34m\u001b[0m\u001b[0m\n",
            "\u001b[0;32m/usr/local/lib/python3.11/dist-packages/pandas/core/frame.py\u001b[0m in \u001b[0;36m__getitem__\u001b[0;34m(self, key)\u001b[0m\n\u001b[1;32m   4100\u001b[0m             \u001b[0;32mif\u001b[0m \u001b[0mself\u001b[0m\u001b[0;34m.\u001b[0m\u001b[0mcolumns\u001b[0m\u001b[0;34m.\u001b[0m\u001b[0mnlevels\u001b[0m \u001b[0;34m>\u001b[0m \u001b[0;36m1\u001b[0m\u001b[0;34m:\u001b[0m\u001b[0;34m\u001b[0m\u001b[0;34m\u001b[0m\u001b[0m\n\u001b[1;32m   4101\u001b[0m                 \u001b[0;32mreturn\u001b[0m \u001b[0mself\u001b[0m\u001b[0;34m.\u001b[0m\u001b[0m_getitem_multilevel\u001b[0m\u001b[0;34m(\u001b[0m\u001b[0mkey\u001b[0m\u001b[0;34m)\u001b[0m\u001b[0;34m\u001b[0m\u001b[0;34m\u001b[0m\u001b[0m\n\u001b[0;32m-> 4102\u001b[0;31m             \u001b[0mindexer\u001b[0m \u001b[0;34m=\u001b[0m \u001b[0mself\u001b[0m\u001b[0;34m.\u001b[0m\u001b[0mcolumns\u001b[0m\u001b[0;34m.\u001b[0m\u001b[0mget_loc\u001b[0m\u001b[0;34m(\u001b[0m\u001b[0mkey\u001b[0m\u001b[0;34m)\u001b[0m\u001b[0;34m\u001b[0m\u001b[0;34m\u001b[0m\u001b[0m\n\u001b[0m\u001b[1;32m   4103\u001b[0m             \u001b[0;32mif\u001b[0m \u001b[0mis_integer\u001b[0m\u001b[0;34m(\u001b[0m\u001b[0mindexer\u001b[0m\u001b[0;34m)\u001b[0m\u001b[0;34m:\u001b[0m\u001b[0;34m\u001b[0m\u001b[0;34m\u001b[0m\u001b[0m\n\u001b[1;32m   4104\u001b[0m                 \u001b[0mindexer\u001b[0m \u001b[0;34m=\u001b[0m \u001b[0;34m[\u001b[0m\u001b[0mindexer\u001b[0m\u001b[0;34m]\u001b[0m\u001b[0;34m\u001b[0m\u001b[0;34m\u001b[0m\u001b[0m\n",
            "\u001b[0;32m/usr/local/lib/python3.11/dist-packages/pandas/core/indexes/base.py\u001b[0m in \u001b[0;36mget_loc\u001b[0;34m(self, key)\u001b[0m\n\u001b[1;32m   3810\u001b[0m             ):\n\u001b[1;32m   3811\u001b[0m                 \u001b[0;32mraise\u001b[0m \u001b[0mInvalidIndexError\u001b[0m\u001b[0;34m(\u001b[0m\u001b[0mkey\u001b[0m\u001b[0;34m)\u001b[0m\u001b[0;34m\u001b[0m\u001b[0;34m\u001b[0m\u001b[0m\n\u001b[0;32m-> 3812\u001b[0;31m             \u001b[0;32mraise\u001b[0m \u001b[0mKeyError\u001b[0m\u001b[0;34m(\u001b[0m\u001b[0mkey\u001b[0m\u001b[0;34m)\u001b[0m \u001b[0;32mfrom\u001b[0m \u001b[0merr\u001b[0m\u001b[0;34m\u001b[0m\u001b[0;34m\u001b[0m\u001b[0m\n\u001b[0m\u001b[1;32m   3813\u001b[0m         \u001b[0;32mexcept\u001b[0m \u001b[0mTypeError\u001b[0m\u001b[0;34m:\u001b[0m\u001b[0;34m\u001b[0m\u001b[0;34m\u001b[0m\u001b[0m\n\u001b[1;32m   3814\u001b[0m             \u001b[0;31m# If we have a listlike key, _check_indexing_error will raise\u001b[0m\u001b[0;34m\u001b[0m\u001b[0;34m\u001b[0m\u001b[0m\n",
            "\u001b[0;31mKeyError\u001b[0m: 'Experience'"
          ]
        }
      ]
    },
    {
      "cell_type": "code",
      "source": [
        "# 15. Grouping & Aggregation with Multiple Conditions\n",
        "# Given the following DataFrame:\n",
        "# df = pd.DataFrame({\n",
        "#     \"Department\": [\"IT\", \"HR\", \"IT\", \"Finance\", \"HR\", \"Finance\", \"IT\"],\n",
        "#     \"Salary\": [70000, 50000, 80000, 60000, 52000, 72000, 65000],\n",
        "#     \"Experience\": [5, 4, 7, 3, 2, 8, 6]\n",
        "# })\n",
        "# Task Find the average salary for each department, but only for employees with at least 5 years of experience.\n",
        "# ________________________________________\n",
        "import pandas as pd\n",
        "df = pd.DataFrame({\n",
        "     \"Department\": [\"IT\", \"HR\", \"IT\", \"Finance\", \"HR\", \"Finance\", \"IT\"],\n",
        "     \"Salary\": [70000, 50000, 80000, 60000, 52000, 72000, 65000],\n",
        "     \"Experience\": [5, 4, 7, 3, 2, 8, 6]\n",
        "})\n",
        "new_df = df.loc[df[\"Experience\"]>=5]\n",
        "print(new_df.groupby(\"Department\")[\"Salary\"].mean())"
      ],
      "metadata": {
        "id": "OcH5uAgRUaw2",
        "colab": {
          "base_uri": "https://localhost:8080/"
        },
        "outputId": "8a0af31f-ef4a-4a04-c716-eab1b6d32deb"
      },
      "execution_count": null,
      "outputs": [
        {
          "output_type": "stream",
          "name": "stdout",
          "text": [
            "Department\n",
            "Finance    72000.000000\n",
            "IT         71666.666667\n",
            "Name: Salary, dtype: float64\n"
          ]
        }
      ]
    },
    {
      "cell_type": "code",
      "source": [
        "# 16. NumPy - Complex Indexing\n",
        "# Create a 5x5 NumPy array with random values between 1 and 100.\n",
        "# Write a NumPy command to:\n",
        "# •\tExtract only even numbers from the array.\n",
        "# •\tExtract values from the last row and last column.\n",
        "# •\tReplace all values greater than 50 with 0.\n",
        "# ________________________________________\n",
        "import numpy as np\n",
        "n2 = np.random.randint(1,100, size=(5,5))\n",
        "print(n2)\n",
        "print(\"only even numbers from the array\",n2[n2%2==0])\n",
        "print(\"last row and last column\", n2[-1,:],n2[:,-1])\n",
        "n3=n2.copy()\n",
        "n3[n3 > 50]=0\n",
        "print(\"replace all values greater than 50 with 0\", )\n",
        "print(n3)"
      ],
      "metadata": {
        "id": "hqFlgqKjUhan",
        "colab": {
          "base_uri": "https://localhost:8080/"
        },
        "outputId": "b0d1fa0e-5363-4ee0-d583-701d007836df"
      },
      "execution_count": null,
      "outputs": [
        {
          "output_type": "stream",
          "name": "stdout",
          "text": [
            "[[66  6 82 43 97]\n",
            " [15 57 98  7 90]\n",
            " [68 88 73 73 51]\n",
            " [91 54 46 34 79]\n",
            " [23 43 96 45 50]]\n",
            "only even numbers from the array [66  6 82 98 90 68 88 54 46 34 96 50]\n",
            "last row and last column [23 43 96 45 50] [97 90 51 79 50]\n",
            "replace all values greater than 50 with 0\n",
            "[[ 0  6  0 43  0]\n",
            " [15  0  0  7  0]\n",
            " [ 0  0  0  0  0]\n",
            " [ 0  0 46 34  0]\n",
            " [23 43  0 45 50]]\n"
          ]
        }
      ]
    },
    {
      "cell_type": "code",
      "source": [
        "# 17. Matrix Multiplication\n",
        "# Given the two NumPy matrices:\n",
        "# A = np.array([[2, 4], [6, 8]])\n",
        "# B = np.array([[1, 3], [5, 7]])\n",
        "# Task\n",
        "# Perform matrix multiplication and output the result.\n",
        "# ________________________________________\n",
        "import numpy as np\n",
        "A = np.array([[2, 4], [6, 8]])\n",
        "B = np.array([[1, 3], [5, 7]])\n",
        "C = np.array(A*B)\n",
        "print(C)"
      ],
      "metadata": {
        "colab": {
          "base_uri": "https://localhost:8080/"
        },
        "id": "AgYEISwnUmDO",
        "outputId": "5abdf772-54fe-4930-fd37-eb6f2330e417"
      },
      "execution_count": null,
      "outputs": [
        {
          "output_type": "stream",
          "name": "stdout",
          "text": [
            "[[ 2 12]\n",
            " [30 56]]\n"
          ]
        }
      ]
    },
    {
      "cell_type": "code",
      "source": [
        "# 18. Finding Unique & Common Elements\n",
        "# You are given two NumPy arrays:\n",
        "# arr1 = np.array([10, 20, 30, 40, 50, 60])\n",
        "# arr2 = np.array([30, 40, 70, 80, 90])\n",
        "# Task\n",
        "# •\tFind the elements that are common in both arrays.\n",
        "# •\tFind the elements that are only present in arr1 but not in arr2.\n",
        "# ________________________________________\n",
        "import numpy as np\n",
        "arr1 = np.array([10, 20, 30, 40, 50, 60])\n",
        "arr2 = np.array([30, 40, 70, 80, 90])\n",
        "common_elements = np.intersect1d(arr1, arr2)\n",
        "print(common_elements)\n",
        "unique_in_arr1 = np.setdiff1d(arr1, arr2)\n",
        "print(unique_in_arr1)\n"
      ],
      "metadata": {
        "id": "Z79YK3RyUsZr",
        "colab": {
          "base_uri": "https://localhost:8080/"
        },
        "outputId": "3df2b64b-4269-4952-a3e0-dc96d1144d79"
      },
      "execution_count": null,
      "outputs": [
        {
          "output_type": "stream",
          "name": "stdout",
          "text": [
            "[30 40]\n",
            "[10 20 50 60]\n"
          ]
        }
      ]
    },
    {
      "cell_type": "code",
      "source": [
        "# 19. Sorting & Ranking in Pandas\n",
        "# You are given the following DataFrame:\n",
        "# df = pd.DataFrame({\n",
        "#     \"Player\": [\"A\", \"B\", \"C\", \"D\"],\n",
        "#     \"Score\": [200, 450, 300, 150]\n",
        "# })\n",
        "# Task\n",
        "# •\tSort the players by descending Score.\n",
        "# •\tAssign ranking to each player (1st, 2nd, 3rd...) without skipping numbers.\n",
        "# ________________________________________\n",
        "import pandas as pd\n",
        "df = pd.DataFrame({\n",
        "     \"Player\": [\"A\", \"B\", \"C\", \"D\"],\n",
        "     \"Score\": [200, 450, 300, 150]\n",
        "})\n",
        "print(df.sort_values(\"Score\", ascending = False))\n"
      ],
      "metadata": {
        "id": "s6PY19osV3x_",
        "colab": {
          "base_uri": "https://localhost:8080/"
        },
        "outputId": "2bfa152c-88aa-4678-da7a-733006cbb0bd"
      },
      "execution_count": null,
      "outputs": [
        {
          "output_type": "stream",
          "name": "stdout",
          "text": [
            "  Player  Score\n",
            "1      B    450\n",
            "2      C    300\n",
            "0      A    200\n",
            "3      D    150\n"
          ]
        }
      ]
    },
    {
      "cell_type": "code",
      "source": [
        "# 20. Optimizing Pandas Performance\n",
        "# You have a large CSV file (\"big_data.csv\") with 1 million rows.\n",
        "# Note: You should search & download a large csv file from any portal & use it to perform below tasks\n",
        "# Task\n",
        "# Write optimized Pandas code to:\n",
        "# •\tLoad only specific columns: \"CustomerID\" and \"PurchaseAmount\".\n",
        "# •\tLoad only the first 100,000 rows.\n",
        "# •\tUse an efficient data type for \"CustomerID\" to save memory.\n",
        "from google.colab import drive\n",
        "drive.mount('/content/drive')\n",
        "import pandas as pd\n",
        "path = \"/content/drive/MyDrive/csvfiles/big_data.csv\"\n",
        "df = pd.read_csv(path)\n",
        "print(df)\n",
        "# df = pd.read_csv(path, usecols=[\"Customer_ID\", \"Purchase_Amount\"], nrows=1000)\n",
        "\n",
        "# file_path = \"path/to/your/big_data.csv\"\n",
        "\n",
        "# # Optimized loading\n",
        "# df = pd.read_csv(\n",
        "#     file_path,\n",
        "#     usecols=[\"Customer_ID\", \"Purchase_Amount\"],  # Load only specified columns\n",
        "#     nrows=1000,  # Load only the first 100,000 rows\n",
        "#     dtype={\"Customer_ID\": \"category\"}  # Use categorical data type for CustomerID\n",
        "# )"
      ],
      "metadata": {
        "id": "Ti2csPMkR9L6",
        "colab": {
          "base_uri": "https://localhost:8080/",
          "height": 567
        },
        "outputId": "13d166bf-c390-4bbb-9f6b-074dba9ba5f6"
      },
      "execution_count": null,
      "outputs": [
        {
          "output_type": "stream",
          "name": "stdout",
          "text": [
            "Drive already mounted at /content/drive; to attempt to forcibly remount, call drive.mount(\"/content/drive\", force_remount=True).\n"
          ]
        },
        {
          "output_type": "error",
          "ename": "UnicodeDecodeError",
          "evalue": "'utf-8' codec can't decode byte 0x92 in position 571: invalid start byte",
          "traceback": [
            "\u001b[0;31m---------------------------------------------------------------------------\u001b[0m",
            "\u001b[0;31mUnicodeDecodeError\u001b[0m                        Traceback (most recent call last)",
            "\u001b[0;32m<ipython-input-9-187ec4babdd2>\u001b[0m in \u001b[0;36m<cell line: 0>\u001b[0;34m()\u001b[0m\n\u001b[1;32m     11\u001b[0m \u001b[0;32mimport\u001b[0m \u001b[0mpandas\u001b[0m \u001b[0;32mas\u001b[0m \u001b[0mpd\u001b[0m\u001b[0;34m\u001b[0m\u001b[0;34m\u001b[0m\u001b[0m\n\u001b[1;32m     12\u001b[0m \u001b[0mpath\u001b[0m \u001b[0;34m=\u001b[0m \u001b[0;34m\"/content/drive/MyDrive/csvfiles/big_data.csv\"\u001b[0m\u001b[0;34m\u001b[0m\u001b[0;34m\u001b[0m\u001b[0m\n\u001b[0;32m---> 13\u001b[0;31m \u001b[0mdf\u001b[0m \u001b[0;34m=\u001b[0m \u001b[0mpd\u001b[0m\u001b[0;34m.\u001b[0m\u001b[0mread_csv\u001b[0m\u001b[0;34m(\u001b[0m\u001b[0mpath\u001b[0m\u001b[0;34m)\u001b[0m\u001b[0;34m\u001b[0m\u001b[0;34m\u001b[0m\u001b[0m\n\u001b[0m\u001b[1;32m     14\u001b[0m \u001b[0mprint\u001b[0m\u001b[0;34m(\u001b[0m\u001b[0mdf\u001b[0m\u001b[0;34m)\u001b[0m\u001b[0;34m\u001b[0m\u001b[0;34m\u001b[0m\u001b[0m\n\u001b[1;32m     15\u001b[0m \u001b[0;31m# df = pd.read_csv(path, usecols=[\"Customer_ID\", \"Purchase_Amount\"], nrows=1000)\u001b[0m\u001b[0;34m\u001b[0m\u001b[0;34m\u001b[0m\u001b[0m\n",
            "\u001b[0;32m/usr/local/lib/python3.11/dist-packages/pandas/io/parsers/readers.py\u001b[0m in \u001b[0;36mread_csv\u001b[0;34m(filepath_or_buffer, sep, delimiter, header, names, index_col, usecols, dtype, engine, converters, true_values, false_values, skipinitialspace, skiprows, skipfooter, nrows, na_values, keep_default_na, na_filter, verbose, skip_blank_lines, parse_dates, infer_datetime_format, keep_date_col, date_parser, date_format, dayfirst, cache_dates, iterator, chunksize, compression, thousands, decimal, lineterminator, quotechar, quoting, doublequote, escapechar, comment, encoding, encoding_errors, dialect, on_bad_lines, delim_whitespace, low_memory, memory_map, float_precision, storage_options, dtype_backend)\u001b[0m\n\u001b[1;32m   1024\u001b[0m     \u001b[0mkwds\u001b[0m\u001b[0;34m.\u001b[0m\u001b[0mupdate\u001b[0m\u001b[0;34m(\u001b[0m\u001b[0mkwds_defaults\u001b[0m\u001b[0;34m)\u001b[0m\u001b[0;34m\u001b[0m\u001b[0;34m\u001b[0m\u001b[0m\n\u001b[1;32m   1025\u001b[0m \u001b[0;34m\u001b[0m\u001b[0m\n\u001b[0;32m-> 1026\u001b[0;31m     \u001b[0;32mreturn\u001b[0m \u001b[0m_read\u001b[0m\u001b[0;34m(\u001b[0m\u001b[0mfilepath_or_buffer\u001b[0m\u001b[0;34m,\u001b[0m \u001b[0mkwds\u001b[0m\u001b[0;34m)\u001b[0m\u001b[0;34m\u001b[0m\u001b[0;34m\u001b[0m\u001b[0m\n\u001b[0m\u001b[1;32m   1027\u001b[0m \u001b[0;34m\u001b[0m\u001b[0m\n\u001b[1;32m   1028\u001b[0m \u001b[0;34m\u001b[0m\u001b[0m\n",
            "\u001b[0;32m/usr/local/lib/python3.11/dist-packages/pandas/io/parsers/readers.py\u001b[0m in \u001b[0;36m_read\u001b[0;34m(filepath_or_buffer, kwds)\u001b[0m\n\u001b[1;32m    618\u001b[0m \u001b[0;34m\u001b[0m\u001b[0m\n\u001b[1;32m    619\u001b[0m     \u001b[0;31m# Create the parser.\u001b[0m\u001b[0;34m\u001b[0m\u001b[0;34m\u001b[0m\u001b[0m\n\u001b[0;32m--> 620\u001b[0;31m     \u001b[0mparser\u001b[0m \u001b[0;34m=\u001b[0m \u001b[0mTextFileReader\u001b[0m\u001b[0;34m(\u001b[0m\u001b[0mfilepath_or_buffer\u001b[0m\u001b[0;34m,\u001b[0m \u001b[0;34m**\u001b[0m\u001b[0mkwds\u001b[0m\u001b[0;34m)\u001b[0m\u001b[0;34m\u001b[0m\u001b[0;34m\u001b[0m\u001b[0m\n\u001b[0m\u001b[1;32m    621\u001b[0m \u001b[0;34m\u001b[0m\u001b[0m\n\u001b[1;32m    622\u001b[0m     \u001b[0;32mif\u001b[0m \u001b[0mchunksize\u001b[0m \u001b[0;32mor\u001b[0m \u001b[0miterator\u001b[0m\u001b[0;34m:\u001b[0m\u001b[0;34m\u001b[0m\u001b[0;34m\u001b[0m\u001b[0m\n",
            "\u001b[0;32m/usr/local/lib/python3.11/dist-packages/pandas/io/parsers/readers.py\u001b[0m in \u001b[0;36m__init__\u001b[0;34m(self, f, engine, **kwds)\u001b[0m\n\u001b[1;32m   1618\u001b[0m \u001b[0;34m\u001b[0m\u001b[0m\n\u001b[1;32m   1619\u001b[0m         \u001b[0mself\u001b[0m\u001b[0;34m.\u001b[0m\u001b[0mhandles\u001b[0m\u001b[0;34m:\u001b[0m \u001b[0mIOHandles\u001b[0m \u001b[0;34m|\u001b[0m \u001b[0;32mNone\u001b[0m \u001b[0;34m=\u001b[0m \u001b[0;32mNone\u001b[0m\u001b[0;34m\u001b[0m\u001b[0;34m\u001b[0m\u001b[0m\n\u001b[0;32m-> 1620\u001b[0;31m         \u001b[0mself\u001b[0m\u001b[0;34m.\u001b[0m\u001b[0m_engine\u001b[0m \u001b[0;34m=\u001b[0m \u001b[0mself\u001b[0m\u001b[0;34m.\u001b[0m\u001b[0m_make_engine\u001b[0m\u001b[0;34m(\u001b[0m\u001b[0mf\u001b[0m\u001b[0;34m,\u001b[0m \u001b[0mself\u001b[0m\u001b[0;34m.\u001b[0m\u001b[0mengine\u001b[0m\u001b[0;34m)\u001b[0m\u001b[0;34m\u001b[0m\u001b[0;34m\u001b[0m\u001b[0m\n\u001b[0m\u001b[1;32m   1621\u001b[0m \u001b[0;34m\u001b[0m\u001b[0m\n\u001b[1;32m   1622\u001b[0m     \u001b[0;32mdef\u001b[0m \u001b[0mclose\u001b[0m\u001b[0;34m(\u001b[0m\u001b[0mself\u001b[0m\u001b[0;34m)\u001b[0m \u001b[0;34m->\u001b[0m \u001b[0;32mNone\u001b[0m\u001b[0;34m:\u001b[0m\u001b[0;34m\u001b[0m\u001b[0;34m\u001b[0m\u001b[0m\n",
            "\u001b[0;32m/usr/local/lib/python3.11/dist-packages/pandas/io/parsers/readers.py\u001b[0m in \u001b[0;36m_make_engine\u001b[0;34m(self, f, engine)\u001b[0m\n\u001b[1;32m   1896\u001b[0m \u001b[0;34m\u001b[0m\u001b[0m\n\u001b[1;32m   1897\u001b[0m         \u001b[0;32mtry\u001b[0m\u001b[0;34m:\u001b[0m\u001b[0;34m\u001b[0m\u001b[0;34m\u001b[0m\u001b[0m\n\u001b[0;32m-> 1898\u001b[0;31m             \u001b[0;32mreturn\u001b[0m \u001b[0mmapping\u001b[0m\u001b[0;34m[\u001b[0m\u001b[0mengine\u001b[0m\u001b[0;34m]\u001b[0m\u001b[0;34m(\u001b[0m\u001b[0mf\u001b[0m\u001b[0;34m,\u001b[0m \u001b[0;34m**\u001b[0m\u001b[0mself\u001b[0m\u001b[0;34m.\u001b[0m\u001b[0moptions\u001b[0m\u001b[0;34m)\u001b[0m\u001b[0;34m\u001b[0m\u001b[0;34m\u001b[0m\u001b[0m\n\u001b[0m\u001b[1;32m   1899\u001b[0m         \u001b[0;32mexcept\u001b[0m \u001b[0mException\u001b[0m\u001b[0;34m:\u001b[0m\u001b[0;34m\u001b[0m\u001b[0;34m\u001b[0m\u001b[0m\n\u001b[1;32m   1900\u001b[0m             \u001b[0;32mif\u001b[0m \u001b[0mself\u001b[0m\u001b[0;34m.\u001b[0m\u001b[0mhandles\u001b[0m \u001b[0;32mis\u001b[0m \u001b[0;32mnot\u001b[0m \u001b[0;32mNone\u001b[0m\u001b[0;34m:\u001b[0m\u001b[0;34m\u001b[0m\u001b[0;34m\u001b[0m\u001b[0m\n",
            "\u001b[0;32m/usr/local/lib/python3.11/dist-packages/pandas/io/parsers/c_parser_wrapper.py\u001b[0m in \u001b[0;36m__init__\u001b[0;34m(self, src, **kwds)\u001b[0m\n\u001b[1;32m     91\u001b[0m             \u001b[0;31m# Fail here loudly instead of in cython after reading\u001b[0m\u001b[0;34m\u001b[0m\u001b[0;34m\u001b[0m\u001b[0m\n\u001b[1;32m     92\u001b[0m             \u001b[0mimport_optional_dependency\u001b[0m\u001b[0;34m(\u001b[0m\u001b[0;34m\"pyarrow\"\u001b[0m\u001b[0;34m)\u001b[0m\u001b[0;34m\u001b[0m\u001b[0;34m\u001b[0m\u001b[0m\n\u001b[0;32m---> 93\u001b[0;31m         \u001b[0mself\u001b[0m\u001b[0;34m.\u001b[0m\u001b[0m_reader\u001b[0m \u001b[0;34m=\u001b[0m \u001b[0mparsers\u001b[0m\u001b[0;34m.\u001b[0m\u001b[0mTextReader\u001b[0m\u001b[0;34m(\u001b[0m\u001b[0msrc\u001b[0m\u001b[0;34m,\u001b[0m \u001b[0;34m**\u001b[0m\u001b[0mkwds\u001b[0m\u001b[0;34m)\u001b[0m\u001b[0;34m\u001b[0m\u001b[0;34m\u001b[0m\u001b[0m\n\u001b[0m\u001b[1;32m     94\u001b[0m \u001b[0;34m\u001b[0m\u001b[0m\n\u001b[1;32m     95\u001b[0m         \u001b[0mself\u001b[0m\u001b[0;34m.\u001b[0m\u001b[0munnamed_cols\u001b[0m \u001b[0;34m=\u001b[0m \u001b[0mself\u001b[0m\u001b[0;34m.\u001b[0m\u001b[0m_reader\u001b[0m\u001b[0;34m.\u001b[0m\u001b[0munnamed_cols\u001b[0m\u001b[0;34m\u001b[0m\u001b[0;34m\u001b[0m\u001b[0m\n",
            "\u001b[0;32mparsers.pyx\u001b[0m in \u001b[0;36mpandas._libs.parsers.TextReader.__cinit__\u001b[0;34m()\u001b[0m\n",
            "\u001b[0;32mparsers.pyx\u001b[0m in \u001b[0;36mpandas._libs.parsers.TextReader._get_header\u001b[0;34m()\u001b[0m\n",
            "\u001b[0;32mparsers.pyx\u001b[0m in \u001b[0;36mpandas._libs.parsers.TextReader._tokenize_rows\u001b[0;34m()\u001b[0m\n",
            "\u001b[0;32mparsers.pyx\u001b[0m in \u001b[0;36mpandas._libs.parsers.TextReader._check_tokenize_status\u001b[0;34m()\u001b[0m\n",
            "\u001b[0;32mparsers.pyx\u001b[0m in \u001b[0;36mpandas._libs.parsers.raise_parser_error\u001b[0;34m()\u001b[0m\n",
            "\u001b[0;31mUnicodeDecodeError\u001b[0m: 'utf-8' codec can't decode byte 0x92 in position 571: invalid start byte"
          ]
        }
      ]
    }
  ]
}